{
 "cells": [
  {
   "cell_type": "code",
   "execution_count": 2,
   "id": "1d9d0194-8c45-4f4c-b9a5-817d04b350a3",
   "metadata": {},
   "outputs": [],
   "source": [
    "import redis"
   ]
  },
  {
   "cell_type": "code",
   "execution_count": 3,
   "id": "174de6af-a85f-4620-b0d3-56d8a350a5cc",
   "metadata": {},
   "outputs": [],
   "source": [
    "r = redis.Redis(\n",
    "                host = 'redis-11059.c16.us-east-1-3.ec2.cloud.redislabs.com',\n",
    "                port = 11059,\n",
    "                password = '56SZqXdcSrbN5cPM4KuzfUrg0BczCmdp')"
   ]
  },
  {
   "cell_type": "code",
   "execution_count": 5,
   "id": "8602fbc9-8adf-4893-979d-bae5dbde64c7",
   "metadata": {},
   "outputs": [],
   "source": [
    "# Redis List"
   ]
  },
  {
   "cell_type": "code",
   "execution_count": 6,
   "id": "c4b0a14e-a4b1-427c-8ecd-5f279f97345d",
   "metadata": {},
   "outputs": [
    {
     "data": {
      "text/plain": [
       "1"
      ]
     },
     "execution_count": 6,
     "metadata": {},
     "output_type": "execute_result"
    }
   ],
   "source": [
    "r.lpush('mulist','value_1')"
   ]
  },
  {
   "cell_type": "code",
   "execution_count": 8,
   "id": "b9dc76da-2d20-49ce-9715-2b44ec850449",
   "metadata": {},
   "outputs": [
    {
     "data": {
      "text/plain": [
       "b'value_1'"
      ]
     },
     "execution_count": 8,
     "metadata": {},
     "output_type": "execute_result"
    }
   ],
   "source": [
    "r.lindex('mulist', index = 0)"
   ]
  },
  {
   "cell_type": "code",
   "execution_count": 9,
   "id": "2eea47d1-6650-4bc3-900c-ea8e80497aab",
   "metadata": {},
   "outputs": [
    {
     "data": {
      "text/plain": [
       "6"
      ]
     },
     "execution_count": 9,
     "metadata": {},
     "output_type": "execute_result"
    }
   ],
   "source": [
    "r.lpush('mulist','value_2')\n",
    "r.lpush('mulist','value_3')\n",
    "r.lpush('mulist','value_4')\n",
    "r.lpush('mulist','value_5')\n",
    "r.lpush('mulist','value_6')"
   ]
  },
  {
   "cell_type": "code",
   "execution_count": 10,
   "id": "64ba42a3-d404-4772-b8a3-b4e9e56f048d",
   "metadata": {},
   "outputs": [
    {
     "data": {
      "text/plain": [
       "b'value_2'"
      ]
     },
     "execution_count": 10,
     "metadata": {},
     "output_type": "execute_result"
    }
   ],
   "source": [
    "r.lindex('mulist', index = 4)"
   ]
  },
  {
   "cell_type": "code",
   "execution_count": 11,
   "id": "91e85934-19f4-4fd3-a653-42bdf6a776d2",
   "metadata": {},
   "outputs": [
    {
     "data": {
      "text/plain": [
       "[b'value_6', b'value_5', b'value_4', b'value_3', b'value_2', b'value_1']"
      ]
     },
     "execution_count": 11,
     "metadata": {},
     "output_type": "execute_result"
    }
   ],
   "source": [
    "r.lrange(name = 'mulist', start = 0, end = -1)"
   ]
  },
  {
   "cell_type": "code",
   "execution_count": 12,
   "id": "abb35501-0ca9-431c-bdae-de67eb1589ba",
   "metadata": {},
   "outputs": [
    {
     "data": {
      "text/plain": [
       "[b'value_6', b'value_5', b'value_4', b'value_3', b'value_2', b'value_1']"
      ]
     },
     "execution_count": 12,
     "metadata": {},
     "output_type": "execute_result"
    }
   ],
   "source": [
    "r.lrange(name = 'mulist', start = 0, end = 5)"
   ]
  },
  {
   "cell_type": "code",
   "execution_count": 13,
   "id": "5d4d6a51-5879-491d-9876-ccbd87265dc2",
   "metadata": {},
   "outputs": [
    {
     "data": {
      "text/plain": [
       "[b'value_6', b'value_5', b'value_4', b'value_3', b'value_2']"
      ]
     },
     "execution_count": 13,
     "metadata": {},
     "output_type": "execute_result"
    }
   ],
   "source": [
    "r.lrange(name = 'mulist', start = 0, end = -2)"
   ]
  },
  {
   "cell_type": "code",
   "execution_count": 14,
   "id": "0e2fedde-ded0-4c43-bdd8-6788d33f66fe",
   "metadata": {},
   "outputs": [
    {
     "data": {
      "text/plain": [
       "7"
      ]
     },
     "execution_count": 14,
     "metadata": {},
     "output_type": "execute_result"
    }
   ],
   "source": [
    "r.linsert('mulist', 'before', 'value_4', 'Matthews')"
   ]
  },
  {
   "cell_type": "code",
   "execution_count": 15,
   "id": "830acebc-571f-4df1-b1ac-74e6eea4e255",
   "metadata": {},
   "outputs": [
    {
     "data": {
      "text/plain": [
       "[b'value_6',\n",
       " b'value_5',\n",
       " b'Matthews',\n",
       " b'value_4',\n",
       " b'value_3',\n",
       " b'value_2',\n",
       " b'value_1']"
      ]
     },
     "execution_count": 15,
     "metadata": {},
     "output_type": "execute_result"
    }
   ],
   "source": [
    "r.lrange('mulist', 0, -1)"
   ]
  },
  {
   "cell_type": "code",
   "execution_count": 17,
   "id": "bff6bdc8-4a3e-4fd8-b98d-9738fc22530d",
   "metadata": {},
   "outputs": [
    {
     "name": "stdout",
     "output_type": "stream",
     "text": [
      "[b'value_6', b'value_5', b'Matthews', b'value_4', b'value_3', b'value_2', b'value_1']\n"
     ]
    }
   ],
   "source": [
    "print(r.lrange(name = 'mulist', start = 0, end = -1))"
   ]
  },
  {
   "cell_type": "code",
   "execution_count": null,
   "id": "dc8c1f20-acdc-4dca-9262-a6c42c3e1bfb",
   "metadata": {},
   "outputs": [],
   "source": []
  }
 ],
 "metadata": {
  "kernelspec": {
   "display_name": "Python 3 (ipykernel)",
   "language": "python",
   "name": "python3"
  },
  "language_info": {
   "codemirror_mode": {
    "name": "ipython",
    "version": 3
   },
   "file_extension": ".py",
   "mimetype": "text/x-python",
   "name": "python",
   "nbconvert_exporter": "python",
   "pygments_lexer": "ipython3",
   "version": "3.11.5"
  }
 },
 "nbformat": 4,
 "nbformat_minor": 5
}
